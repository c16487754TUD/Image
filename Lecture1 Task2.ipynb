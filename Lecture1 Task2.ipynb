{
 "cells": [
  {
   "cell_type": "code",
   "execution_count": 1,
   "metadata": {},
   "outputs": [],
   "source": [
    "import cv2\n",
    "import easygui\n",
    "from matplotlib import pyplot as plt\n",
    "from matplotlib import image as image\n",
    "import numpy as np\n",
    "\n",
    "f =easygui.fileopenbox()\n",
    "I =cv2.imread(f)\n",
    "\n",
    "def draw(event, x, y, flags, param):\n",
    "    if event == cv2.EVENT_LBUTTONDOWN:\n",
    "            x1= x-100\n",
    "            x2=x+100\n",
    "            y1=y-100\n",
    "            y2=y+100\n",
    "            \n",
    " \n",
    "            I[y1:y2, x1:x2] = cv2.cv2.cvtColor(I[y1:y2, x1:x2],cv2.COLOR_BGR2YUV)\n",
    "    \n",
    "            cv2.rectangle(img = I,pt1 =(x1,y1),\n",
    "                pt2 =(x2,y2),color=(0,0,255),\n",
    "                thickness =5)\n",
    "        \n",
    "            \n",
    "cv2.namedWindow(\"image\")\n",
    "cv2.setMouseCallback(\"image\", draw)\n",
    "\n",
    "while True:\n",
    "    cv2.imshow(\"image\", I)\n",
    "    if cv2.waitKey(1) & 0xFF == ord(\"q\"):\n",
    "        break\n",
    "cv2.destroyAllWindows()"
   ]
  },
  {
   "cell_type": "code",
   "execution_count": null,
   "metadata": {},
   "outputs": [],
   "source": []
  },
  {
   "cell_type": "code",
   "execution_count": null,
   "metadata": {},
   "outputs": [],
   "source": []
  }
 ],
 "metadata": {
  "kernelspec": {
   "display_name": "Python 3",
   "language": "python",
   "name": "python3"
  },
  "language_info": {
   "codemirror_mode": {
    "name": "ipython",
    "version": 3
   },
   "file_extension": ".py",
   "mimetype": "text/x-python",
   "name": "python",
   "nbconvert_exporter": "python",
   "pygments_lexer": "ipython3",
   "version": "3.6.5"
  }
 },
 "nbformat": 4,
 "nbformat_minor": 4
}
